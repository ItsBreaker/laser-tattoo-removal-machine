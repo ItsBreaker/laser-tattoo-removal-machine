{
 "cells": [
  {
   "cell_type": "code",
   "execution_count": 1,
   "id": "61bc928d",
   "metadata": {},
   "outputs": [
    {
     "ename": "ModuleNotFoundError",
     "evalue": "No module named 'serial.tools'",
     "output_type": "error",
     "traceback": [
      "\u001b[1;31m---------------------------------------------------------------------------\u001b[0m",
      "\u001b[1;31mModuleNotFoundError\u001b[0m                       Traceback (most recent call last)",
      "Cell \u001b[1;32mIn[1], line 3\u001b[0m\n\u001b[0;32m      1\u001b[0m \u001b[38;5;66;03m# import the relevant packages\u001b[39;00m\n\u001b[0;32m      2\u001b[0m \u001b[38;5;28;01mimport\u001b[39;00m \u001b[38;5;21;01mserial\u001b[39;00m\n\u001b[1;32m----> 3\u001b[0m \u001b[38;5;28;01mimport\u001b[39;00m \u001b[38;5;21;01mserial\u001b[39;00m\u001b[38;5;21;01m.\u001b[39;00m\u001b[38;5;21;01mtools\u001b[39;00m\u001b[38;5;21;01m.\u001b[39;00m\u001b[38;5;21;01mlist_ports\u001b[39;00m \u001b[38;5;28;01mas\u001b[39;00m \u001b[38;5;21;01mport_lists\u001b[39;00m\n\u001b[0;32m      4\u001b[0m \u001b[38;5;28;01mimport\u001b[39;00m \u001b[38;5;21;01mnumpy\u001b[39;00m \u001b[38;5;28;01mas\u001b[39;00m \u001b[38;5;21;01mnp\u001b[39;00m\n\u001b[0;32m      5\u001b[0m \u001b[38;5;28;01mfrom\u001b[39;00m \u001b[38;5;21;01mnumpy\u001b[39;00m \u001b[38;5;28;01mimport\u001b[39;00m linalg \u001b[38;5;28;01mas\u001b[39;00m la\n",
      "\u001b[1;31mModuleNotFoundError\u001b[0m: No module named 'serial.tools'"
     ]
    }
   ],
   "source": [
    "# import the relevant packages\n",
    "import serial\n",
    "import serial.tools.list_ports as port_lists\n",
    "import numpy as np\n",
    "from numpy import linalg as la\n",
    "import matplotlib.pyplot as plt\n",
    "# Examine all the serial port hardware connected to the computer\n",
    "ports=list(port_lists.comports())\n",
    "# print out the names of the various ports\n",
    "print()\n",
    "for p in ports:\n",
    "    print(p)\n",
    "print()\n",
    "\n",
    "# pick the relevant port\n",
    "port_string=input('Enter port to be used: ')\n",
    "# define the relevant serial port parameters and take control of the port\n",
    "serial_connection=serial.Serial(port=port_string,baudrate=19200,timeout=2,\n",
    "bytesize=serial.EIGHTBITS,parity=serial.PARITY_NONE,stopbits=serial.STOPBITS_ONE,\n",
    "xonxoff=0,dsrdtr=0,rtscts=0)\n",
    "\n",
    "# write a string to the port\n",
    "#EE to display EEPROM data\n",
    "#EE DUMP\n",
    "#SBS Y to turn on RS-485\n",
    "write_check=serial_connection.write(\"ERR?\\r\".encode())#ERR lists all possible errors, or #ERRLOG \n",
    "print(write_check)\n",
    "# read the string from the port\n",
    "ID_value=serial_connection.readline()\n",
    "#print(ID_value.decode())\n",
    "ID_value_string=ID_value.decode()\n",
    "\n",
    "# close the port\n",
    "serial_connection.close()"
   ]
  },
  {
   "cell_type": "code",
   "execution_count": null,
   "id": "f5b51404",
   "metadata": {},
   "outputs": [],
   "source": [
    "write_check=serial_connection.write(\"wfmpre:yoff?\\r\".encode()) \n",
    "vertical_offset=serial_connection.readline().decode()\n",
    "print(vertical_offset)\n",
    "\n",
    "write_check=serial_connection.write(\"wfmpre:ymult?\\r\".encode()) \n",
    "vertical_scale_factor_str=serial_connection.readline().decode()\n",
    "vertical_scale_factor = vertical_scale_factor_str.split(\"\\r\")[0]\n",
    "print(vertical_scale_factor)\n",
    "vertical_scale_factor = float(vertical_scale_factor.split(\" \")[1])\n",
    "\n",
    "voltages_str = ID_value_string.split(\" \")[1]\n",
    "voltages = voltages_str.split(\",\")\n",
    "voltages = np.array(voltages, dtype=int)\n",
    "voltages = np.multiply(voltages, vertical_scale_factor)\n",
    "\n",
    "write_check=serial_connection.write(\"wfmpre:xincr?\\r\".encode()) \n",
    "x_incr=serial_connection.readline().decode()\n",
    "print(x_incr)\n",
    "time = np.linspace(0,1*10**-5,2500)\n",
    "\n",
    "\n",
    "plt.plot(time, voltages)"
   ]
  }
 ],
 "metadata": {
  "kernelspec": {
   "display_name": "Python 3 (ipykernel)",
   "language": "python",
   "name": "python3"
  },
  "language_info": {
   "codemirror_mode": {
    "name": "ipython",
    "version": 3
   },
   "file_extension": ".py",
   "mimetype": "text/x-python",
   "name": "python",
   "nbconvert_exporter": "python",
   "pygments_lexer": "ipython3",
   "version": "3.12.3"
  }
 },
 "nbformat": 4,
 "nbformat_minor": 5
}
